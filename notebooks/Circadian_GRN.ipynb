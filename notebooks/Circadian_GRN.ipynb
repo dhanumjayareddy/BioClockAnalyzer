{
 "cells": [
  {
   "cell_type": "markdown",
   "id": "cdb7df47",
   "metadata": {},
   "source": [
    "# Circadian Gene Regulatory Network Analysis Pipeline\n",
    "\n",
    "This notebook provides a production-ready, deployable workflow for analyzing the gene regulatory networks (GRNs) of human circadian clock genes. The notebook includes:\n",
    "- Exploratory Data Analysis (EDA)\n",
    "- Inspection of WGCNA network modules\n",
    "- Deep learning model training for predicting key regulatory nodes\n",
    "- Visualization of model performance (ROC curve)\n",
    "\n",
    "This interactive notebook complements the full pipeline managed via Snakemake and production scripts found in the `src/` directory."
   ]
  },
  {
   "cell_type": "markdown",
   "id": "7e1e316d",
   "metadata": {},
   "source": [
    "## Table of Contents\n",
    "1. [Exploratory Data Analysis (EDA)](#EDA)\n",
    "2. [WGCNA Network Module Inspection](#WGCNA)\n",
    "3. [Machine Learning Modeling](#ML)\n",
    "4. [Visualization and Reporting](#Visualization)\n",
    "5. [Conclusion](#Conclusion)"
   ]
  },
  {
   "cell_type": "markdown",
   "id": "eda-intro",
   "metadata": {},
   "source": [
    "## Exploratory Data Analysis (EDA)\n",
    "\n",
    "In this section, we load and inspect the raw transcriptomic data to understand its structure, check for missing values, and visualize the distribution of gene expression values."
   ]
  },
  {
   "cell_type": "code",
   "execution_count": null,
   "id": "load-raw-data",
   "metadata": {},
   "outputs": [],
   "source": [
    "import pandas as pd\n",
    "import numpy as np\n",
    "import matplotlib.pyplot as plt\n",
    "import seaborn as sns\n",
    "\n",
    "sns.set(style=\"whitegrid\")\n",
    "plt.rcParams[\"figure.figsize\"] = (10, 6)\n",
    "\n",
    "# Define path for raw data (ensure the file exists in data/raw/)\n",
    "raw_data_path = 'data/raw/example_data.csv'\n",
    "\n",
    "try:\n",
    "    raw_data = pd.read_csv(raw_data_path, index_col=0)\n",
    "    print(f\"Raw data loaded successfully. Data shape: {raw_data.shape}\")\n",
    "except Exception as e:\n",
    "    print(f\"Error loading raw data from {raw_data_path}: {e}\")\n",
    "\n",
    "raw_data.head()"
   ]
  },
  {
   "cell_type": "markdown",
   "id": "eda-summary-cell",
   "metadata": {},
   "source": [
    "### Data Summary and Histogram\n",
    "\n",
    "We now compute summary statistics and plot a histogram for one representative gene to assess the distribution of expression values."
   ]
  },
  {
   "cell_type": "code",
   "execution_count": null,
   "id": "eda-stats-histogram",
   "metadata": {},
   "outputs": [],
   "source": [
    "# Summary statistics\n",
    "summary_stats = raw_data.describe()\n",
    "print(\"Summary Statistics:\")\n",
    "print(summary_stats)\n",
    "\n",
    "# Check for missing values\n",
    "missing_values = raw_data.isnull().sum()\n",
    "print(\"\\nMissing Values in Each Column:\")\n",
    "print(missing_values[missing_values > 0])\n",
    "\n",
    "# Plot histogram for the first gene in the dataset\n",
    "gene = raw_data.index[0]\n",
    "plt.hist(raw_data.loc[gene], bins=50, color='skyblue', edgecolor='black')\n",
    "plt.title(f'Distribution of Expression for Gene: {gene}')\n",
    "plt.xlabel('Expression Level')\n",
    "plt.ylabel('Frequency')\n",
    "plt.show()"
   ]
  },
  {
   "cell_type": "markdown",
   "id": "eda-conclusion-cell",
   "metadata": {},
   "source": [
    "Based on the EDA, the data appears to be typical of transcriptomic profiles. We will proceed to preprocess this data (e.g., filtering and normalization) as part of the automated pipeline. Preprocessed data will be stored in the `data/processed` folder."
   ]
  },
  {
   "cell_type": "markdown",
   "id": "wgcna-intro",
   "metadata": {},
   "source": [
    "## WGCNA Network Module Inspection\n",
    "\n",
    "WGCNA is used to identify modules of co-expressed genes from the preprocessed data. The analysis is performed using an R script (`src/wgcna_analysis.R`). Here, we load the output (module assignments) from WGCNA to inspect the detected gene modules."
   ]
  },
  {
   "cell_type": "code",
   "execution_count": null,
   "id": "load-wgcna-modules",
   "metadata": {},
   "outputs": [],
   "source": [
    "wgcna_path = 'results/wgcna/module_colors.csv'\n",
    "try:\n",
    "    module_colors = pd.read_csv(wgcna_path, index_col=0)\n",
    "    print(\"WGCNA module assignments loaded successfully.\")\n",
    "    display(module_colors.head())\n",
    "except Exception as e:\n",
    "    print(f\"Error loading WGCNA module assignments from {wgcna_path}: {e}\")"
   ]
  },
  {
   "cell_type": "markdown",
   "id": "wgcna-viz",
   "metadata": {},
   "source": [
    "### WGCNA Visualization\n",
    "\n",
    "If available, display the dendrogram or network plot generated during the WGCNA analysis. For example, if a dendrogram image is stored in the `results/figures` folder, it can be loaded and displayed below."
   ]
  },
  {
   "cell_type": "code",
   "execution_count": null,
   "id": "display-dendrogram",
   "metadata": {},
   "outputs": [],
   "source": [
    "from IPython.display import Image, display\n",
    "\n",
    "dendrogram_path = 'results/figures/dendrogram.png'\n",
    "try:\n",
    "    display(Image(filename=dendrogram_path))\n",
    "except Exception as e:\n",
    "    print(f\"Dendrogram image not found at {dendrogram_path}: {e}\")"
   ]
  },
  {
   "cell_type": "markdown",
   "id": "ml-intro",
   "metadata": {},
   "source": [
    "## Machine Learning Modeling\n",
    "\n",
    "This section focuses on training a deep learning model to predict key regulatory nodes using an integrated feature matrix (derived from network metrics and motif analysis). The feature matrix and corresponding labels are stored as `data/processed/features.csv` and `data/processed/labels.csv`, respectively."
   ]
  },
  {
   "cell_type": "code",
   "execution_count": null,
   "id": "load-ml-data",
   "metadata": {},
   "outputs": [],
   "source": [
    "# Load the feature matrix and labels\n",
    "features_path = 'data/processed/features.csv'\n",
    "labels_path = 'data/processed/labels.csv'\n",
    "\n",
    "try:\n",
    "    features = pd.read_csv(features_path, index_col=0)\n",
    "    labels = pd.read_csv(labels_path, index_col=0)\n",
    "    print(\"Features loaded. Shape:\", features.shape)\n",
    "    print(\"Labels loaded. Shape:\", labels.shape)\n",
    "except Exception as e:\n",
    "    print(f\"Error loading features or labels: {e}\")\n",
    "\n",
    "features.head()"
   ]
  },
  {
   "cell_type": "markdown",
   "id": "ml-modeling",
   "metadata": {},
   "source": [
    "### Building and Training the Deep Learning Model\n",
    "\n",
    "We build a sequential neural network using TensorFlow/Keras. The model architecture includes dense layers with dropout for regularization. The model is trained on 80% of the data and evaluated on the remaining 20%."
   ]
  },
  {
   "cell_type": "code",
   "execution_count": null,
   "id": "train-model",
   "metadata": {},
   "outputs": [],
   "source": [
    "import tensorflow as tf\n",
    "from tensorflow.keras import layers, models\n",
    "from sklearn.model_selection import train_test_split\n",
    "from sklearn.metrics import roc_auc_score\n",
    "\n",
    "# Split data into training and testing sets\n",
    "X_train, X_test, y_train, y_test = train_test_split(features.values, labels.values.ravel(), test_size=0.2, random_state=42)\n",
    "\n",
    "def build_model(input_dim):\n",
    "    model = models.Sequential([\n",
    "        layers.Dense(128, activation='relu', input_shape=(input_dim,)),\n",
    "        layers.Dropout(0.3),\n",
    "        layers.Dense(64, activation='relu'),\n",
    "        layers.Dropout(0.3),\n",
    "        layers.Dense(1, activation='sigmoid')\n",
    "    ])\n",
    "    model.compile(optimizer='adam', loss='binary_crossentropy', metrics=['accuracy'])\n",
    "    return model\n",
    "\n",
    "model = build_model(X_train.shape[1])\n",
    "model.summary()\n",
    "\n",
    "# Train the model\n",
    "history = model.fit(X_train, y_train, epochs=50, batch_size=32, validation_split=0.2, verbose=1)\n",
    "\n",
    "# Evaluate the model\n",
    "loss, accuracy = model.evaluate(X_test, y_test, verbose=0)\n",
    "y_pred = model.predict(X_test)\n",
    "auc = roc_auc_score(y_test, y_pred)\n",
    "print(f\"Test Accuracy: {accuracy:.4f}\")\n",
    "print(f\"Test AUC: {auc:.4f}\")\n",
    "\n",
    "# Save the trained model\n",
    "model.save('results/ml/model.h5')\n",
    "print(\"Trained model saved to results/ml/model.h5\")"
   ]
  },
  {
   "cell_type": "markdown",
   "id": "ml-conclusion",
   "metadata": {},
   "source": [
    "### Machine Learning Modeling Conclusion\n",
    "\n",
    "The deep learning model has been successfully trained and evaluated. Key performance metrics (accuracy and AUC) are reported above. The model is saved for future inference."
   ]
  },
  {
   "cell_type": "markdown",
   "id": "viz-intro",
   "metadata": {},
   "source": [
    "## Visualization and Reporting\n",
    "\n",
    "In this section, we visualize performance metrics such as the ROC curve. The ROC curve data is expected to be stored as `results/ml/roc_curve.csv`."
   ]
  },
  {
   "cell_type": "code",
   "execution_count": null,
   "id": "plot-roc",
   "metadata": {},
   "outputs": [],
   "source": [
    "try:\n",
    "    roc_data = pd.read_csv('results/ml/roc_curve.csv')\n",
    "    plt.figure(figsize=(8,6))\n",
    "    plt.plot(roc_data['fpr'], roc_data['tpr'], marker='.', label='ROC Curve')\n",
    "    plt.xlabel('False Positive Rate')\n",
    "    plt.ylabel('True Positive Rate')\n",
    "    plt.title('Receiver Operating Characteristic (ROC) Curve')\n",
    "    plt.legend()\n",
    "    plt.show()\n",
    "except Exception as e:\n",
    "    print(f\"Error loading or plotting ROC curve: {e}\")"
   ]
  },
  {
   "cell_type": "markdown",
   "id": "conclusion-cell",
   "metadata": {},
   "source": [
    "## Conclusion\n",
    "\n",
    "This notebook provided a comprehensive workflow for the circadian GRN analysis pipeline, covering EDA, WGCNA module inspection, deep learning model training, and visualization of performance metrics.\n",
    "\n",
    "Final outputs and detailed results are stored in the `results/` directory. For complete production code and automated execution, please refer to the scripts in the `src/` directory and the Snakemake workflow in the `pipeline/` folder.\n",
    "\n",
    "Happy analyzing!"
   ]
  }
 ],
 "metadata": {
  "kernelspec": {
   "display_name": "Python 3",
   "language": "python",
   "name": "python3"
  },
  "language_info": {
   "name": "python",
   "version": "3.x"
  }
 },
 "nbformat": 4,
 "nbformat_minor": 5
}
